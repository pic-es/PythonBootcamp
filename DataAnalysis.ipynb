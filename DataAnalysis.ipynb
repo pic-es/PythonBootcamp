{
 "cells": [
  {
   "cell_type": "markdown",
   "id": "ceea0f43-2307-492a-99e3-0c8a1004d1cc",
   "metadata": {},
   "source": [
    "## Load the CSV data"
   ]
  },
  {
   "cell_type": "code",
   "execution_count": 3,
   "id": "39c1bca5-f6ab-49e3-ba42-e7fbc04800a8",
   "metadata": {},
   "outputs": [],
   "source": [
    "import pandas as pd"
   ]
  },
  {
   "cell_type": "code",
   "execution_count": 4,
   "id": "4acc9ade-909e-4451-af5c-1cc4c53ffdd7",
   "metadata": {},
   "outputs": [],
   "source": [
    "ZOO_DATA = '/home/torradeflot/Downloads/ZooSpecPhotoDR19_torradeflot.csv'"
   ]
  },
  {
   "cell_type": "code",
   "execution_count": 5,
   "id": "469646b5-e318-4888-8ecd-93390ec4fb16",
   "metadata": {},
   "outputs": [],
   "source": [
    "df = pd.read_csv(ZOO_DATA)"
   ]
  },
  {
   "cell_type": "code",
   "execution_count": 6,
   "id": "8d7856ce-889a-45fc-9e23-dade6ae6d8d7",
   "metadata": {},
   "outputs": [
    {
     "name": "stdout",
     "output_type": "stream",
     "text": [
      "<class 'pandas.core.frame.DataFrame'>\n",
      "RangeIndex: 659272 entries, 0 to 659271\n",
      "Data columns (total 90 columns):\n",
      " #   Column         Non-Null Count   Dtype  \n",
      "---  ------         --------------   -----  \n",
      " 0   specobjid      659272 non-null  int64  \n",
      " 1   objid          659272 non-null  int64  \n",
      " 2   dr7objid       659272 non-null  int64  \n",
      " 3   ra             659272 non-null  float64\n",
      " 4   dec            659272 non-null  float64\n",
      " 5   rastring       659272 non-null  object \n",
      " 6   decstring      659272 non-null  object \n",
      " 7   nvote          659272 non-null  int64  \n",
      " 8   p_el           659272 non-null  float64\n",
      " 9   p_cw           659272 non-null  float64\n",
      " 10  p_acw          659272 non-null  float64\n",
      " 11  p_edge         659272 non-null  float64\n",
      " 12  p_dk           659272 non-null  float64\n",
      " 13  p_mg           659272 non-null  float64\n",
      " 14  p_cs           659272 non-null  float64\n",
      " 15  p_el_debiased  659272 non-null  float64\n",
      " 16  p_cs_debiased  659272 non-null  float64\n",
      " 17  spiral         659272 non-null  int64  \n",
      " 18  elliptical     659272 non-null  int64  \n",
      " 19  uncertain      659272 non-null  int64  \n",
      " 20  Column1        659272 non-null  int64  \n",
      " 21  dr8objid       659272 non-null  int64  \n",
      " 22  distance       659272 non-null  float64\n",
      " 23  modeDR7        659272 non-null  int64  \n",
      " 24  modeDR8        659272 non-null  int64  \n",
      " 25  skyVersion     659272 non-null  int64  \n",
      " 26  run            659272 non-null  int64  \n",
      " 27  rerun          659272 non-null  int64  \n",
      " 28  camcol         659272 non-null  int64  \n",
      " 29  field          659272 non-null  int64  \n",
      " 30  obj            659272 non-null  int64  \n",
      " 31  nChild         659272 non-null  int64  \n",
      " 32  type           659272 non-null  int64  \n",
      " 33  probPSF        659272 non-null  int64  \n",
      " 34  insideMask     659272 non-null  int64  \n",
      " 35  flags          659272 non-null  int64  \n",
      " 36  psfMag_u       659272 non-null  float64\n",
      " 37  psfMag_g       659272 non-null  float64\n",
      " 38  psfMag_r       659272 non-null  float64\n",
      " 39  psfMag_i       659272 non-null  float64\n",
      " 40  psfMag_z       659272 non-null  float64\n",
      " 41  psfMagErr_u    659272 non-null  float64\n",
      " 42  psfMagErr_g    659272 non-null  float64\n",
      " 43  psfMagErr_r    659272 non-null  float64\n",
      " 44  psfMagErr_i    659272 non-null  float64\n",
      " 45  psfMagErr_z    659272 non-null  float64\n",
      " 46  petroMag_u     659272 non-null  float64\n",
      " 47  petroMag_g     659272 non-null  float64\n",
      " 48  petroMag_r     659272 non-null  float64\n",
      " 49  petroMag_i     659272 non-null  float64\n",
      " 50  petroMag_z     659272 non-null  float64\n",
      " 51  petroMagErr_u  659272 non-null  float64\n",
      " 52  petroMagErr_g  659272 non-null  float64\n",
      " 53  petroMagErr_r  659272 non-null  float64\n",
      " 54  petroMagErr_i  659272 non-null  float64\n",
      " 55  petroMagErr_z  659272 non-null  float64\n",
      " 56  petroR50_r     659272 non-null  float64\n",
      " 57  petroR90_r     659272 non-null  float64\n",
      " 58  modelMag_u     659272 non-null  float64\n",
      " 59  modelMag_g     659272 non-null  float64\n",
      " 60  modelMag_r     659272 non-null  float64\n",
      " 61  modelMag_i     659272 non-null  float64\n",
      " 62  modelMag_z     659272 non-null  float64\n",
      " 63  modelMagErr_u  659272 non-null  float64\n",
      " 64  modelMagErr_g  659272 non-null  float64\n",
      " 65  modelMagErr_r  659272 non-null  float64\n",
      " 66  modelMagErr_i  659272 non-null  float64\n",
      " 67  modelMagErr_z  659272 non-null  float64\n",
      " 68  mRrCc_r        659272 non-null  float64\n",
      " 69  mRrCcErr_r     659272 non-null  float64\n",
      " 70  lnLStar_r      659272 non-null  float64\n",
      " 71  lnLExp_r       659272 non-null  float64\n",
      " 72  lnLDeV_r       659272 non-null  float64\n",
      " 73  status         659272 non-null  int64  \n",
      " 74  Column2        659272 non-null  float64\n",
      " 75  Column3        659272 non-null  float64\n",
      " 76  cx             659272 non-null  float64\n",
      " 77  cy             659272 non-null  float64\n",
      " 78  cz             659272 non-null  float64\n",
      " 79  primTarget     659272 non-null  int64  \n",
      " 80  secTarget      659272 non-null  int64  \n",
      " 81  extinction_u   659272 non-null  float64\n",
      " 82  extinction_g   659272 non-null  float64\n",
      " 83  extinction_r   659272 non-null  float64\n",
      " 84  extinction_i   659272 non-null  float64\n",
      " 85  extinction_z   659272 non-null  float64\n",
      " 86  htmID          659272 non-null  int64  \n",
      " 87  fieldID        659272 non-null  int64  \n",
      " 88  Column4        659272 non-null  int64  \n",
      " 89  size           659272 non-null  float64\n",
      "dtypes: float64(60), int64(28), object(2)\n",
      "memory usage: 452.7+ MB\n"
     ]
    }
   ],
   "source": [
    "df.info()"
   ]
  },
  {
   "cell_type": "code",
   "execution_count": 5,
   "id": "42775881-1ae4-4404-8c79-cc84fa5ab9f9",
   "metadata": {},
   "outputs": [
    {
     "data": {
      "text/plain": [
       "array([[<Axes: title={'center': 'p_el_debiased'}>]], dtype=object)"
      ]
     },
     "execution_count": 5,
     "metadata": {},
     "output_type": "execute_result"
    },
    {
     "data": {
      "image/png": "[encoded data removed]",
      "text/plain": [
       "<Figure size 640x480 with 1 Axes>"
      ]
     },
     "metadata": {},
     "output_type": "display_data"
    }
   ],
   "source": [
    "df[['p_el_debiased']].hist()"
   ]
  },
  {
   "cell_type": "code",
   "execution_count": null,
   "id": "6d726d74-3fb2-46b9-b7ee-73c92451e675",
   "metadata": {},
   "outputs": [],
   "source": [
    "df"
   ]
  },
  {
   "cell_type": "code",
   "execution_count": 16,
   "id": "0dbfecbe-be78-4001-94c6-07dcc3bf4ff0",
   "metadata": {},
   "outputs": [
    {
     "data": {
      "text/plain": [
       "p_el_debiased    85276\n",
       "dtype: int64"
      ]
     },
     "execution_count": 16,
     "metadata": {},
     "output_type": "execute_result"
    }
   ],
   "source": [
    "(df[['p_el_debiased']] > 0.8).sum()"
   ]
  },
  {
   "cell_type": "code",
   "execution_count": 18,
   "id": "0b26ba73-2372-47de-8bd0-3015436d2e92",
   "metadata": {},
   "outputs": [
    {
     "data": {
      "text/plain": [
       "p_cs_debiased    159021\n",
       "dtype: int64"
      ]
     },
     "execution_count": 18,
     "metadata": {},
     "output_type": "execute_result"
    }
   ],
   "source": [
    " (df[['p_cs_debiased']] > 0.8).sum()"
   ]
  },
  {
   "cell_type": "code",
   "execution_count": 10,
   "id": "85b9955a-66f0-45b8-9d43-ca22113233be",
   "metadata": {},
   "outputs": [
    {
     "data": {
      "text/html": [
       "<div>\n",
       "<style scoped>\n",
       "    .dataframe tbody tr th:only-of-type {\n",
       "        vertical-align: middle;\n",
       "    }\n",
       "\n",
       "    .dataframe tbody tr th {\n",
       "        vertical-align: top;\n",
       "    }\n",
       "\n",
       "    .dataframe thead th {\n",
       "        text-align: right;\n",
       "    }\n",
       "</style>\n",
       "<table border=\"1\" class=\"dataframe\">\n",
       "  <thead>\n",
       "    <tr style=\"text-align: right;\">\n",
       "      <th></th>\n",
       "      <th>objid</th>\n",
       "      <th>p_el_debiased</th>\n",
       "      <th>p_cs_debiased</th>\n",
       "    </tr>\n",
       "  </thead>\n",
       "  <tbody>\n",
       "    <tr>\n",
       "      <th>0</th>\n",
       "      <td>1237661463301455961</td>\n",
       "      <td>0.088</td>\n",
       "      <td>0.761</td>\n",
       "    </tr>\n",
       "    <tr>\n",
       "      <th>1</th>\n",
       "      <td>1237661463301456237</td>\n",
       "      <td>0.000</td>\n",
       "      <td>1.000</td>\n",
       "    </tr>\n",
       "    <tr>\n",
       "      <th>2</th>\n",
       "      <td>1237661463301521615</td>\n",
       "      <td>0.293</td>\n",
       "      <td>0.488</td>\n",
       "    </tr>\n",
       "    <tr>\n",
       "      <th>3</th>\n",
       "      <td>1237661463301521650</td>\n",
       "      <td>0.069</td>\n",
       "      <td>0.931</td>\n",
       "    </tr>\n",
       "    <tr>\n",
       "      <th>4</th>\n",
       "      <td>1237661463301587266</td>\n",
       "      <td>0.180</td>\n",
       "      <td>0.799</td>\n",
       "    </tr>\n",
       "  </tbody>\n",
       "</table>\n",
       "</div>"
      ],
      "text/plain": [
       "                 objid  p_el_debiased  p_cs_debiased\n",
       "0  1237661463301455961          0.088          0.761\n",
       "1  1237661463301456237          0.000          1.000\n",
       "2  1237661463301521615          0.293          0.488\n",
       "3  1237661463301521650          0.069          0.931\n",
       "4  1237661463301587266          0.180          0.799"
      ]
     },
     "execution_count": 10,
     "metadata": {},
     "output_type": "execute_result"
    }
   ],
   "source": [
    "df[['objid', 'p_el_debiased', 'p_cs_debiased']].head(5)"
   ]
  },
  {
   "cell_type": "markdown",
   "id": "90531aa7-c2dd-4ea9-8409-9d8088d2266d",
   "metadata": {},
   "source": [
    "# Filter out incorrect data"
   ]
  },
  {
   "cell_type": "code",
   "execution_count": 19,
   "id": "6da8a6d5-70f0-4ab9-a8b3-5f9c2821628f",
   "metadata": {},
   "outputs": [],
   "source": [
    "m = (\n",
    "    (df.modelMag_u >-30) & (df.modelMag_g > -30) & (df.modelMag_r > -30) & (df.modelMag_i > -30) & (df.modelMag_z > -30)\n",
    "    & (df.modelMagErr_u < 0.5) & (df.modelMagErr_g < 0.05) & (df.modelMagErr_r < 0.05) & (df.modelMagErr_i < 0.05) & (df.modelMagErr_z < 0.1)\n",
    ")"
   ]
  },
  {
   "cell_type": "code",
   "execution_count": 46,
   "id": "9ed69fa0-9d65-4616-8755-f25092f77c9f",
   "metadata": {},
   "outputs": [
    {
     "name": "stdout",
     "output_type": "stream",
     "text": [
      "['specobjid', 'objid', 'dr7objid', 'ra', 'dec', 'rastring', 'decstring', 'nvote', 'p_el', 'p_cw', 'p_acw', 'p_edge', 'p_dk', 'p_mg', 'p_cs', 'p_el_debiased', 'p_cs_debiased', 'spiral', 'elliptical', 'uncertain', 'Column1', 'dr8objid', 'distance', 'modeDR7', 'modeDR8', 'skyVersion', 'run', 'rerun', 'camcol', 'field', 'obj', 'nChild', 'type', 'probPSF', 'insideMask', 'flags', 'psfMag_u', 'psfMag_g', 'psfMag_r', 'psfMag_i', 'psfMag_z', 'psfMagErr_u', 'psfMagErr_g', 'psfMagErr_r', 'psfMagErr_i', 'psfMagErr_z', 'petroMag_u', 'petroMag_g', 'petroMag_r', 'petroMag_i', 'petroMag_z', 'petroMagErr_u', 'petroMagErr_g', 'petroMagErr_r', 'petroMagErr_i', 'petroMagErr_z', 'petroR50_r', 'petroR90_r', 'modelMag_u', 'modelMag_g', 'modelMag_r', 'modelMag_i', 'modelMag_z', 'modelMagErr_u', 'modelMagErr_g', 'modelMagErr_r', 'modelMagErr_i', 'modelMagErr_z', 'mRrCc_r', 'mRrCcErr_r', 'lnLStar_r', 'lnLExp_r', 'lnLDeV_r', 'status', 'Column2', 'Column3', 'cx', 'cy', 'cz', 'primTarget', 'secTarget', 'extinction_u', 'extinction_g', 'extinction_r', 'extinction_i', 'extinction_z', 'htmID', 'fieldID', 'Column4', 'size']\n"
     ]
    }
   ],
   "source": [
    "print(df.columns.to_list())"
   ]
  },
  {
   "cell_type": "code",
   "execution_count": 20,
   "id": "b85b8cab-b6cb-48ee-93d6-45cb7c1500d4",
   "metadata": {},
   "outputs": [
    {
     "data": {
      "text/plain": [
       "(659272, 654580)"
      ]
     },
     "execution_count": 20,
     "metadata": {},
     "output_type": "execute_result"
    }
   ],
   "source": [
    "len(df), len(df[m])"
   ]
  },
  {
   "cell_type": "code",
   "execution_count": 64,
   "id": "fe4a9f65-1edd-4702-93d4-89633239ad9f",
   "metadata": {},
   "outputs": [
    {
     "data": {
      "text/plain": [
       "petroMagErr_u    15329.530000\n",
       "petroMagErr_g       90.876590\n",
       "petroMagErr_r        3.518622\n",
       "petroMagErr_i       86.490560\n",
       "petroMagErr_z      265.656500\n",
       "dtype: float64"
      ]
     },
     "execution_count": 64,
     "metadata": {},
     "output_type": "execute_result"
    }
   ],
   "source": [
    "df[m][['petroMagErr_u', 'petroMagErr_g', 'petroMagErr_r', 'petroMagErr_i', 'petroMagErr_z']].max()"
   ]
  },
  {
   "cell_type": "code",
   "execution_count": 21,
   "id": "fd5b7227-3e3f-4e0c-a258-4dffed4a3e6b",
   "metadata": {},
   "outputs": [
    {
     "data": {
      "text/plain": [
       "array([[<Axes: title={'center': 'modelMagErr_u'}>,\n",
       "        <Axes: title={'center': 'modelMagErr_g'}>],\n",
       "       [<Axes: title={'center': 'modelMagErr_r'}>,\n",
       "        <Axes: title={'center': 'modelMagErr_i'}>],\n",
       "       [<Axes: title={'center': 'modelMagErr_z'}>, <Axes: >]],\n",
       "      dtype=object)"
      ]
     },
     "execution_count": 21,
     "metadata": {},
     "output_type": "execute_result"
    },
    {
     "data": {
      "image/png": "[encoded data removed]",
      "text/plain": [
       "<Figure size 640x480 with 6 Axes>"
      ]
     },
     "metadata": {},
     "output_type": "display_data"
    }
   ],
   "source": [
    "df[m][['modelMagErr_u', 'modelMagErr_g', 'modelMagErr_r', 'modelMagErr_i', 'modelMagErr_z']].hist(bins=50)"
   ]
  },
  {
   "cell_type": "code",
   "execution_count": 22,
   "id": "0bc4e792-1d1b-4668-8e2d-ce5a356fdf5b",
   "metadata": {},
   "outputs": [],
   "source": [
    "import matplotlib.pyplot as plt"
   ]
  },
  {
   "cell_type": "code",
   "execution_count": 23,
   "id": "69e9bc50-c636-4ba7-936f-cd02bc5f3ab6",
   "metadata": {},
   "outputs": [
    {
     "data": {
      "text/plain": [
       "[<matplotlib.lines.Line2D at 0x73464c1ebed0>]"
      ]
     },
     "execution_count": 23,
     "metadata": {},
     "output_type": "execute_result"
    },
    {
     "data": {
      "image/png": "[encoded data removed]",
      "text/plain": [
       "<Figure size 640x480 with 1 Axes>"
      ]
     },
     "metadata": {},
     "output_type": "display_data"
    }
   ],
   "source": [
    "fig, ax = plt.subplots()\n",
    "df[m].plot.scatter('petroMag_g', 'modelMag_g', ax=ax)\n",
    "ax.plot([12, 23], [12, 23], 'k')"
   ]
  },
  {
   "cell_type": "code",
   "execution_count": 24,
   "id": "5a64f285-c899-4a72-b597-e166b1bb4fec",
   "metadata": {},
   "outputs": [
    {
     "data": {
      "text/html": [
       "<div>\n",
       "<style scoped>\n",
       "    .dataframe tbody tr th:only-of-type {\n",
       "        vertical-align: middle;\n",
       "    }\n",
       "\n",
       "    .dataframe tbody tr th {\n",
       "        vertical-align: top;\n",
       "    }\n",
       "\n",
       "    .dataframe thead th {\n",
       "        text-align: right;\n",
       "    }\n",
       "</style>\n",
       "<table border=\"1\" class=\"dataframe\">\n",
       "  <thead>\n",
       "    <tr style=\"text-align: right;\">\n",
       "      <th></th>\n",
       "      <th>specobjid</th>\n",
       "      <th>objid</th>\n",
       "      <th>dr7objid</th>\n",
       "      <th>ra</th>\n",
       "      <th>dec</th>\n",
       "      <th>rastring</th>\n",
       "      <th>decstring</th>\n",
       "      <th>nvote</th>\n",
       "      <th>p_el</th>\n",
       "      <th>p_cw</th>\n",
       "      <th>...</th>\n",
       "      <th>secTarget</th>\n",
       "      <th>extinction_u</th>\n",
       "      <th>extinction_g</th>\n",
       "      <th>extinction_r</th>\n",
       "      <th>extinction_i</th>\n",
       "      <th>extinction_z</th>\n",
       "      <th>htmID</th>\n",
       "      <th>fieldID</th>\n",
       "      <th>Column4</th>\n",
       "      <th>size</th>\n",
       "    </tr>\n",
       "    <tr>\n",
       "      <th>type</th>\n",
       "      <th></th>\n",
       "      <th></th>\n",
       "      <th></th>\n",
       "      <th></th>\n",
       "      <th></th>\n",
       "      <th></th>\n",
       "      <th></th>\n",
       "      <th></th>\n",
       "      <th></th>\n",
       "      <th></th>\n",
       "      <th></th>\n",
       "      <th></th>\n",
       "      <th></th>\n",
       "      <th></th>\n",
       "      <th></th>\n",
       "      <th></th>\n",
       "      <th></th>\n",
       "      <th></th>\n",
       "      <th></th>\n",
       "      <th></th>\n",
       "      <th></th>\n",
       "    </tr>\n",
       "  </thead>\n",
       "  <tbody>\n",
       "    <tr>\n",
       "      <th>3</th>\n",
       "      <td>654580</td>\n",
       "      <td>654580</td>\n",
       "      <td>654580</td>\n",
       "      <td>654580</td>\n",
       "      <td>654580</td>\n",
       "      <td>654580</td>\n",
       "      <td>654580</td>\n",
       "      <td>654580</td>\n",
       "      <td>654580</td>\n",
       "      <td>654580</td>\n",
       "      <td>...</td>\n",
       "      <td>654580</td>\n",
       "      <td>654580</td>\n",
       "      <td>654580</td>\n",
       "      <td>654580</td>\n",
       "      <td>654580</td>\n",
       "      <td>654580</td>\n",
       "      <td>654580</td>\n",
       "      <td>654580</td>\n",
       "      <td>654580</td>\n",
       "      <td>654580</td>\n",
       "    </tr>\n",
       "  </tbody>\n",
       "</table>\n",
       "<p>1 rows × 89 columns</p>\n",
       "</div>"
      ],
      "text/plain": [
       "      specobjid   objid  dr7objid      ra     dec  rastring  decstring  \\\n",
       "type                                                                     \n",
       "3        654580  654580    654580  654580  654580    654580     654580   \n",
       "\n",
       "       nvote    p_el    p_cw  ...  secTarget  extinction_u  extinction_g  \\\n",
       "type                          ...                                          \n",
       "3     654580  654580  654580  ...     654580        654580        654580   \n",
       "\n",
       "      extinction_r  extinction_i  extinction_z   htmID  fieldID  Column4  \\\n",
       "type                                                                       \n",
       "3           654580        654580        654580  654580   654580   654580   \n",
       "\n",
       "        size  \n",
       "type          \n",
       "3     654580  \n",
       "\n",
       "[1 rows x 89 columns]"
      ]
     },
     "execution_count": 24,
     "metadata": {},
     "output_type": "execute_result"
    }
   ],
   "source": [
    "df[m].groupby('type').count()"
   ]
  },
  {
   "cell_type": "code",
   "execution_count": 26,
   "id": "83f5a0ae-a87d-4120-97f8-fc81bdb3d37b",
   "metadata": {},
   "outputs": [
    {
     "data": {
      "text/plain": [
       "array([[<Axes: title={'center': 'petroR90_r'}>]], dtype=object)"
      ]
     },
     "execution_count": 26,
     "metadata": {},
     "output_type": "execute_result"
    },
    {
     "data": {
      "image/png": "[encoded data removed]",
      "text/plain": [
       "<Figure size 640x480 with 1 Axes>"
      ]
     },
     "metadata": {},
     "output_type": "display_data"
    }
   ],
   "source": [
    "df[m][['petroR90_r']].hist(bins=50)"
   ]
  },
  {
   "cell_type": "code",
   "execution_count": null,
   "id": "f0a5140f-0229-4679-b5c6-0f26ef854466",
   "metadata": {},
   "outputs": [],
   "source": []
  }
 ],
 "metadata": {
  "kernelspec": {
   "display_name": "Python 3 (ipykernel)",
   "language": "python",
   "name": "python3"
  },
  "language_info": {
   "codemirror_mode": {
    "name": "ipython",
    "version": 3
   },
   "file_extension": ".py",
   "mimetype": "text/x-python",
   "name": "python",
   "nbconvert_exporter": "python",
   "pygments_lexer": "ipython3",
   "version": "3.13.5"
  }
 },
 "nbformat": 4,
 "nbformat_minor": 5
}
