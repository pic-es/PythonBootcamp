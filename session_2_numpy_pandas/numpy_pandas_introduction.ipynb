{
 "cells": [
  {
   "cell_type": "markdown",
   "id": "d63346f8",
   "metadata": {},
   "source": [
    "# Official master's degree in High Energy Physics, Astrophysics and Cosmology"
   ]
  },
  {
   "cell_type": "markdown",
   "id": "5549f526",
   "metadata": {
    "jp-MarkdownHeadingCollapsed": true
   },
   "source": [
    "## <img width=400 src=\"https://upload.wikimedia.org/wikipedia/commons/1/1a/NumPy_logo.svg\" alt=\"Numpy\"/>"
   ]
  },
  {
   "cell_type": "markdown",
   "id": "01515b83",
   "metadata": {},
   "source": [
    "## <img width=400 src=\"https://raw.githubusercontent.com/pandas-dev/pandas/4a31802c42b3c1acab7dd47f59035e50510735d9/web/pandas/static/img/pandas.svg\" alt=\"Pandas\"/>"
   ]
  },
  {
   "cell_type": "code",
   "execution_count": 1,
   "id": "f5bccf9d",
   "metadata": {},
   "outputs": [
    {
     "data": {
      "text/html": [
       "\n",
       "<style>\n",
       "/* Classic Notebook (older Jupyter) */\n",
       "div.text_cell_render {\n",
       "    font-size: 18px;\n",
       "    line-height: 1.6;\n",
       "}\n",
       "\n",
       "/* JupyterLab (newer versions) */\n",
       ".jp-RenderedHTMLCommon {\n",
       "    font-size: 18px;\n",
       "    line-height: 1.6;\n",
       "}\n",
       "</style>\n"
      ],
      "text/plain": [
       "<IPython.core.display.HTML object>"
      ]
     },
     "metadata": {},
     "output_type": "display_data"
    }
   ],
   "source": [
    "from IPython.display import display, HTML\n",
    "\n",
    "display(HTML(\"\"\"\n",
    "<style>\n",
    "/* Classic Notebook (older Jupyter) */\n",
    "div.text_cell_render {\n",
    "    font-size: 18px;\n",
    "    line-height: 1.6;\n",
    "}\n",
    "\n",
    "/* JupyterLab (newer versions) */\n",
    ".jp-RenderedHTMLCommon {\n",
    "    font-size: 18px;\n",
    "    line-height: 1.6;\n",
    "}\n",
    "</style>\n",
    "\"\"\"))"
   ]
  },
  {
   "cell_type": "markdown",
   "id": "c9452191",
   "metadata": {
    "jp-MarkdownHeadingCollapsed": true
   },
   "source": [
    "## This is a short introductory session, focus on *concepts*\n",
    "\n",
    "### What problems each library solves and how – rather than memorizing syntax. \n",
    "\n",
    "#### (You can / should use LLMs or documentation for exact functions!)"
   ]
  },
  {
   "cell_type": "markdown",
   "id": "eb2f953e",
   "metadata": {},
   "source": [
    "# Table of Contents\n",
    "- [NumPy](#numpy)\n",
    "  - [What is an ndarray?](#what-is-an-ndarray)\n",
    "  - [Why NumPy?](#why-numpy)\n",
    "  - [Behind the scenes](#behind-the-scenes)\n",
    "  - [Data types (dtypes)](#data-types-dtypes)\n",
    "  - [Indexing and slicing](#indexing-and-slicing)\n",
    "  - [Algebra, Analysis and Statistics](#algebra)\n",
    "- [pandas](#pandas)\n",
    "  - [What is pandas?](#what-is-pandas)\n",
    "  - [Selection and slicing](#selection-and-slicing)\n",
    "  - [Merging and grouping](#merging-and-grouping)\n",
    "  - [Input/Output](#inputoutput)\n",
    "  - [Large data considerations](#large-data-considerations)\n",
    "  - [Some more functions](#some-more-functions)"
   ]
  },
  {
   "cell_type": "markdown",
   "id": "a3d0bfe6",
   "metadata": {},
   "source": [
    "# Introducing NumPy and Pandas\n",
    "\n",
    "* NumPy and pandas are **essential building blocks** for almost all data-related work in Python\n",
    "* NumPy provides fast, compact N-dimensional arrays and mathematical operations on them\n",
    "* pandas builds on NumPy to offer labeled, tabular data structures (Series and DataFrames)\n",
    "  * ideal for data cleaning and exploration."
   ]
  },
  {
   "cell_type": "markdown",
   "id": "d005294c",
   "metadata": {},
   "source": [
    "<a id='numpy'></a>\n",
    "## NumPy"
   ]
  },
  {
   "cell_type": "markdown",
   "id": "79539315",
   "metadata": {},
   "source": [
    "<a id='what-is-an-ndarray'></a>\n",
    "### What is an ndarray?\n",
    "- The **ndarray** (N-dimensional array) is NumPy's core data structure.\n",
    "  - example: x = np.array([[1, 2, 3], [4, 5, 6]], np.int32)\n",
    "- It is a **contiguous, fixed-size array of elements of the same type**.\n",
    "- Supports **vectorized operations**, efficient slicing, and mathematical computations.\n",
    "- Think of it as a **high-performance, multidimensional version of a Python list**, optimized for numerical computing."
   ]
  },
  {
   "cell_type": "markdown",
   "id": "63118977",
   "metadata": {},
   "source": [
    "<a id='why-numpy'></a>\n",
    "### Why NumPy\n",
    "- NumPy’s **ndarray** is fast because it is contiguous in memory, homogeneous, and uses optimized C loops.\n",
    "  - This homogeneity and contiguous memory layout make it much more efficient than Python lists (which are pointers to separate objects scattered in memory).\n",
    "- All core NumPy operations run in optimized C loops, avoiding Python overhead.\n",
    "  - Sometimes NumPy is combined with tools like Cython or Numba for even faster computations, or use GPU-accelerated arrays\n",
    "- In practice, **element-wise arithmetic** or reductions on large arrays are **orders of magnitude faster** than equivalent Python loops.\n",
    "- **Lose your loops**"
   ]
  },
  {
   "cell_type": "code",
   "execution_count": 2,
   "id": "55a47c37",
   "metadata": {},
   "outputs": [
    {
     "name": "stdout",
     "output_type": "stream",
     "text": [
      "Python list size (MB): 8.000056\n",
      "NumPy array size (MB): 4.0\n",
      "Python list addition time: 0.02783203125 seconds\n",
      "NumPy array addition time: 0.0007519721984863281 seconds\n"
     ]
    }
   ],
   "source": [
    "### Memory and Performance Example\n",
    "import numpy as np\n",
    "import sys\n",
    "import time\n",
    "\n",
    "# Create 1 million floats in a Python list\n",
    "py_list = [0.0] * 1_000_000\n",
    "\n",
    "# Create 1 million floats in a NumPy array\n",
    "np_array = np.zeros(1_000_000, dtype=np.float32)\n",
    "\n",
    "# Compare memory usage\n",
    "print(\"Python list size (MB):\", sys.getsizeof(py_list) / 1e6)\n",
    "print(\"NumPy array size (MB):\", np_array.nbytes / 1e6)\n",
    "\n",
    "# Compare element-wise addition\n",
    "# Python list\n",
    "start = time.time()\n",
    "py_list2 = [x + 1.0 for x in py_list]\n",
    "end = time.time()\n",
    "print(\"Python list addition time:\", end - start, \"seconds\")\n",
    "\n",
    "# NumPy array\n",
    "start = time.time()\n",
    "np_array2 = np_array + 1.0\n",
    "end = time.time()\n",
    "print(\"NumPy array addition time:\", end - start, \"seconds\")"
   ]
  },
  {
   "cell_type": "markdown",
   "id": "4617b508",
   "metadata": {},
   "source": [
    "<a id='behind-the-scenes'></a>\n",
    "### Behind the scenes\n",
    "- **Vectorization & Broadcasting:**\n",
    "  - NumPy “vectorized” operations apply **elementwise** over whole arrays (e.g. `a + b`).\n",
    "    - There are *no explicit Python loops* – the computation happens in C.\n",
    "  - NumPy supports **broadcasting**:\n",
    "    - The term broadcasting describes how numpy treats arrays with different shapes during arithmetic operations:\n",
    "      - if two arrays have different shapes, the smaller one is automatically “stretched” to match the larger, as long as dimensions are compatible.\n",
    "- **Columnar memory layout:** Enables efficient vectorized math.\n",
    "- **Strides:** NumPy moves through memory with calculated steps\n",
    "  - This is why slicing is fast: it doesn’t copy data, it just tells NumPy how to step through memory to access the elements you want."
   ]
  },
  {
   "cell_type": "code",
   "execution_count": 3,
   "id": "54cecae3",
   "metadata": {},
   "outputs": [
    {
     "name": "stdout",
     "output_type": "stream",
     "text": [
      "a.shape: (2, 3)\n",
      "b.shape: (2, 1)\n",
      "c.shape: (2, 3)\n",
      "c:\n",
      " [[11 12 13]\n",
      " [24 25 26]]\n"
     ]
    }
   ],
   "source": [
    "### Simple Example of \"broadcasting\"\n",
    "import numpy as np\n",
    "# A simple 2D array\n",
    "a = np.array([[1, 2, 3],\n",
    "              [4, 5, 6]])   # shape (2, 3)\n",
    "# A column vector\n",
    "b = np.array([[10],\n",
    "              [20]])        # shape (2, 1)\n",
    "\n",
    "# Broadcasting happens here\n",
    "c = a + b\n",
    "\n",
    "print(\"a.shape:\", a.shape)\n",
    "print(\"b.shape:\", b.shape)\n",
    "print(\"c.shape:\", c.shape)\n",
    "print(\"c:\\n\", c)"
   ]
  },
  {
   "cell_type": "markdown",
   "id": "128c4a40",
   "metadata": {},
   "source": [
    "<a id='data-types-dtypes'></a>\n",
    "### Data types (dtypes)\n",
    "- Homogeneous: all elements must share the same dtype.\n",
    "- Caveats:\n",
    "  - Integers can **overflow** if values exceed limits.\n",
    "  - Floats have **finite precision**.\n",
    "    - NumPy floats have limited precision (float32 ≈ 7 decimal digits, float64 ≈ 16 digits). Some decimal numbers cannot be exactly represented in binary, leading to rounding errors.\n",
    "- Choose dtypes carefully (`int32` vs `int64`, `float32` vs `float64`) and of conversions (`arr.astype()`)."
   ]
  },
  {
   "cell_type": "code",
   "execution_count": 4,
   "id": "b23dec74",
   "metadata": {},
   "outputs": [
    {
     "name": "stdout",
     "output_type": "stream",
     "text": [
      "Original x: [120]\n",
      "After adding 10 (overflow!): [-126]\n"
     ]
    }
   ],
   "source": [
    "### Example of overflow:\n",
    "# int8: can store values from -128 to 127\n",
    "x = np.array([120], dtype=np.int8)\n",
    "print(\"Original x:\", x)\n",
    "\n",
    "# Adding 10 exceeds the maximum of 127\n",
    "y = x + 10\n",
    "print(\"After adding 10 (overflow!):\", y)"
   ]
  },
  {
   "cell_type": "code",
   "execution_count": 5,
   "id": "952e270e",
   "metadata": {},
   "outputs": [
    {
     "data": {
      "text/plain": [
       "False"
      ]
     },
     "execution_count": 5,
     "metadata": {},
     "output_type": "execute_result"
    }
   ],
   "source": [
    "### Classic demonstration of floating point precision issues in Python and NumPy\n",
    "0.1 + 0.2 + 0.3 == 0.6"
   ]
  },
  {
   "cell_type": "markdown",
   "id": "b69ed218",
   "metadata": {},
   "source": [
    "- Computers represent floating-point numbers in binary, not decimal.\n",
    "- Some decimal fractions cannot be exactly represented in binary."
   ]
  },
  {
   "cell_type": "markdown",
   "id": "40ee2ece",
   "metadata": {},
   "source": [
    "<a id='indexing-and-slicing'></a>\n",
    "### Indexing and Slicing\n",
    "- NumPy’s indexing mirrors Python lists (e.g. `a[0:5]`, `a[2,3]`).\n",
    "  - Accessing individual elements or subarrays using square brackets\n",
    "- **Slicing returns a view, not a copy** (slicing does not make a new array) → changes propagate back to the original.\n",
    "  - This means modifying the slice also modifies the original array.\n",
    "- Boolean (very powerfull tool to select certain elements that fullfill a certain condition) and fancy indexing allow complex selections (`a[a>0]`). \n",
    "\n",
    "> **Tip:** Slicing can be tricky! For example, selecting a subarray in reverse order:\n",
    "> \n",
    "> ```python\n",
    "> x[2::-1]  # starts from index 2 and goes backward to the beginning\n",
    "> ```\n",
    "> \n",
    "> Keep in mind that the syntax is `[start:stop:step]`, and negative steps go backward."
   ]
  },
  {
   "cell_type": "code",
   "execution_count": 6,
   "id": "96535b19",
   "metadata": {},
   "outputs": [
    {
     "name": "stdout",
     "output_type": "stream",
     "text": [
      "Original array: [1 2 3 4 5]\n",
      "Slice: [2 3 4]\n",
      "Modified slice: [99  3  4]\n",
      "Original array after modifying slice: [ 1 99  3  4  5]\n"
     ]
    }
   ],
   "source": [
    "### Example of slicing returns a view!\n",
    "# Original array\n",
    "arr = np.array([1, 2, 3, 4, 5])\n",
    "print(\"Original array:\", arr)\n",
    "\n",
    "# Slice (view)\n",
    "slice_arr = arr[1:4]\n",
    "print(\"Slice:\", slice_arr)\n",
    "\n",
    "# Modify the slice\n",
    "slice_arr[0] = 99\n",
    "print(\"Modified slice:\", slice_arr)\n",
    "print(\"Original array after modifying slice:\", arr)"
   ]
  },
  {
   "cell_type": "markdown",
   "id": "e314b1e1",
   "metadata": {
    "jp-MarkdownHeadingCollapsed": true
   },
   "source": [
    "<a id='algebra'></a>\n",
    "### Algebra, Analysis and Statistics\n",
    "- NumPy provides efficient linear algebra (mostly wrapping [LAPACK](http://www.netlib.org/lapack/)): dot products, matrix multiplications, eigenvalues.\n",
    "- Once data is in ndarrays, **algebraic and statistical operations become concise and fast**.\n",
    "- Fast Fourier Transforms (**FFT**)\n",
    "- Random number generation\n",
    "- And more..."
   ]
  },
  {
   "cell_type": "markdown",
   "id": "aaf92393",
   "metadata": {},
   "source": [
    "<a id='numpy'></a>\n",
    "## pandas"
   ]
  },
  {
   "cell_type": "markdown",
   "id": "690de282",
   "metadata": {},
   "source": [
    "### What is pandas?\n",
    "- As a conceptual introduction, a DataFrame can be thought of as a dictionary of NumPy arrays (*).\n",
    "- Where NumPy is like a powerful array engine, **pandas adds labels, mixed data types, and data manipulation tools**.\n",
    "- **Tabular Data & Labels:**\n",
    "  - **Series:** 1D labeled array.\n",
    "  - **DataFrame:** 2D labeled table (rows + columns).\n",
    "    - Built on top of NumPy arrays.\n",
    "\n",
    "(*) Internally, pandas is more than a dictionary of arrays: it has indices, metadata, and type handling."
   ]
  },
  {
   "cell_type": "markdown",
   "id": "e88ebdb8-8b74-4f88-bc51-c4d6d6b39e66",
   "metadata": {},
   "source": [
    "<a id='selection-and-slicing'></a>\n",
    "### [Selection and slicing](https://pandas.pydata.org/pandas-docs/stable/user_guide/indexing.html#indexing-view-versus-copy)\n",
    "\n",
    "- Difference from NumPy:\n",
    "  - NumPy slicing returns a **view**; modifying it affects the original array.\n",
    "  - Pandas slicing via `.iloc` (integer-location) or `.loc` (label-location) is **less predictable**: it may return a view or a copy, depending on the operation and version. To be safe, use `.copy()` if you need a fully independent object.\n",
    "\n",
    "> **View vs Copy in pandas:**  \n",
    "> - A **view** is a new object that *points to the same data in memory* as the original. Changes made through the view may affect the original.  \n",
    "> - A **copy** is a new object with the data stored in a *separate location in memory*. Changes to the copy do **not** affect the original.  \n",
    ">\n",
    "> In NumPy, slicing **always** gives a view.  \n",
    "> In pandas (before 3.0), slicing **may give a view or a copy**. With Copy-on-Write enabled (or in pandas 3.0+), slicing behaves safely like copies.\n",
    "\n",
    "- `.iloc` vs `.loc`:\n",
    "  - `.iloc[start:end]` → integer positions, end **exclusive** (like NumPy).\n",
    "  - `.loc[start:end]` → label-based, end **inclusive** (different from NumPy).\n",
    "\n",
    "- The basics of indexing are as follows:\n",
    "\n",
    "| Operation                      | Syntax           | Result        |\n",
    "|--------------------------------|------------------|---------------|\n",
    "| Select column                  | df[column label] | Series        |\n",
    "| Select row by index            | df.loc[index]    | Series        |\n",
    "| Select row by integer location | df.iloc[pos]     | Series        |\n",
    "| Slice rows                     | df[5:10]         | DataFrame     |\n",
    "| Select rows by boolean vector  | df[bool_vec]     | DataFrame     |\n"
   ]
  },
  {
   "cell_type": "code",
   "execution_count": 7,
   "id": "c44768f8",
   "metadata": {},
   "outputs": [
    {
     "name": "stdout",
     "output_type": "stream",
     "text": [
      "2.2.3\n",
      "Original DataFrame:\n",
      "     A  B\n",
      "a  10  5\n",
      "b  20  4\n",
      "c  30  3\n",
      "d  40  2\n",
      "e  50  1\n",
      "\n",
      ".iloc[1:4] → rows 1,2,3:\n",
      "    A  B\n",
      "b  20  4\n",
      "c  30  3\n",
      "d  40  2\n",
      "\n",
      ".loc['b':'d'] → rows 'b','c','d':\n",
      "    A  B\n",
      "b  20  4\n",
      "c  30  3\n",
      "d  40  2\n",
      "\n",
      "Modified slice (copy)\n",
      "     A  B\n",
      "b  99  4\n",
      "c  99  3\n",
      "d  99  2\n",
      "Original DataFrame remains unchanged:\n",
      "     A  B\n",
      "a  10  5\n",
      "b  20  4\n",
      "c  30  3\n",
      "d  40  2\n",
      "e  50  1\n"
     ]
    }
   ],
   "source": [
    "#### Example of slicing in pandas\n",
    "import pandas as pd\n",
    "print(pd.__version__)\n",
    "# Example DataFrame\n",
    "df = pd.DataFrame({\n",
    "'A': [10, 20, 30, 40, 50],\n",
    "'B': [5, 4, 3, 2, 1]\n",
    "}, index=['a', 'b', 'c', 'd', 'e'])\n",
    "\n",
    "print(\"Original DataFrame:\\n\", df)\n",
    "\n",
    "# .iloc → integer position slicing (end exclusive)\n",
    "print(\"\\n.iloc[1:4] → rows 1,2,3:\")\n",
    "print(df.iloc[1:4])\n",
    "\n",
    "# .loc → label-based slicing (end inclusive)\n",
    "print(\"\\n.loc['b':'d'] → rows 'b','c','d':\")\n",
    "print(df.loc['b':'d'])\n",
    "\n",
    "# Modifying a slice (use copy() to avoid ambiguity)\n",
    "slice_df = df.iloc[1:4].copy()\n",
    "slice_df['A'] = 99\n",
    "print(\"\\nModified slice (copy)\\n\", slice_df)\n",
    "print(\"Original DataFrame remains unchanged:\\n\", df)"
   ]
  },
  {
   "cell_type": "markdown",
   "id": "dc10dbd6",
   "metadata": {},
   "source": [
    "<a id='merging-and-grouping'></a>\n",
    "### Merging and Grouping\n",
    "- **Concatenation:** stack DataFrames by rows/columns.\n",
    "- **Merge/Join:** SQL-style joins on keys.\n",
    "\n",
    "```\n",
    "pd.concat([df1, df4], axis=1, join='outer')\n",
    "```\n",
    "\n",
    "![](static/merging_concat_axis1.png)\n",
    "\n",
    "- **GroupBy:** split-apply-combine for aggregation."
   ]
  },
  {
   "cell_type": "code",
   "execution_count": 8,
   "id": "2bc7c413",
   "metadata": {},
   "outputs": [
    {
     "data": {
      "text/html": [
       "<div>\n",
       "<style scoped>\n",
       "    .dataframe tbody tr th:only-of-type {\n",
       "        vertical-align: middle;\n",
       "    }\n",
       "\n",
       "    .dataframe tbody tr th {\n",
       "        vertical-align: top;\n",
       "    }\n",
       "\n",
       "    .dataframe thead th {\n",
       "        text-align: right;\n",
       "    }\n",
       "</style>\n",
       "<table border=\"1\" class=\"dataframe\">\n",
       "  <thead>\n",
       "    <tr style=\"text-align: right;\">\n",
       "      <th></th>\n",
       "      <th>random_number</th>\n",
       "      <th>scale</th>\n",
       "      <th>lognormal</th>\n",
       "    </tr>\n",
       "  </thead>\n",
       "  <tbody>\n",
       "    <tr>\n",
       "      <th>0</th>\n",
       "      <td>0.181995</td>\n",
       "      <td>1</td>\n",
       "      <td>2.637320</td>\n",
       "    </tr>\n",
       "    <tr>\n",
       "      <th>1</th>\n",
       "      <td>0.817190</td>\n",
       "      <td>2</td>\n",
       "      <td>3.806256</td>\n",
       "    </tr>\n",
       "    <tr>\n",
       "      <th>2</th>\n",
       "      <td>0.047708</td>\n",
       "      <td>3</td>\n",
       "      <td>1.084999</td>\n",
       "    </tr>\n",
       "    <tr>\n",
       "      <th>3</th>\n",
       "      <td>0.222123</td>\n",
       "      <td>2</td>\n",
       "      <td>5.126097</td>\n",
       "    </tr>\n",
       "    <tr>\n",
       "      <th>4</th>\n",
       "      <td>0.484942</td>\n",
       "      <td>3</td>\n",
       "      <td>47.432966</td>\n",
       "    </tr>\n",
       "  </tbody>\n",
       "</table>\n",
       "</div>"
      ],
      "text/plain": [
       "   random_number  scale  lognormal\n",
       "0       0.181995      1   2.637320\n",
       "1       0.817190      2   3.806256\n",
       "2       0.047708      3   1.084999\n",
       "3       0.222123      2   5.126097\n",
       "4       0.484942      3  47.432966"
      ]
     },
     "execution_count": 8,
     "metadata": {},
     "output_type": "execute_result"
    }
   ],
   "source": [
    "import pandas as pd\n",
    "import numpy as np\n",
    "\n",
    "s = 10_000\n",
    "\n",
    "random_number = np.random.random(size=s)\n",
    "scale = np.random.choice([1, 2, 3], size=s)\n",
    "lognormal = np.random.lognormal(mean=random_number, sigma=scale, size=s)\n",
    "\n",
    "df = pd.DataFrame({\n",
    "    'random_number': random_number,\n",
    "    'scale': scale,\n",
    "    'lognormal': lognormal\n",
    "})\n",
    "df.head(5)"
   ]
  },
  {
   "cell_type": "code",
   "execution_count": 9,
   "id": "37731c00",
   "metadata": {},
   "outputs": [
    {
     "data": {
      "text/html": [
       "<div>\n",
       "<style scoped>\n",
       "    .dataframe tbody tr th:only-of-type {\n",
       "        vertical-align: middle;\n",
       "    }\n",
       "\n",
       "    .dataframe tbody tr th {\n",
       "        vertical-align: top;\n",
       "    }\n",
       "\n",
       "    .dataframe thead th {\n",
       "        text-align: right;\n",
       "    }\n",
       "</style>\n",
       "<table border=\"1\" class=\"dataframe\">\n",
       "  <thead>\n",
       "    <tr style=\"text-align: right;\">\n",
       "      <th></th>\n",
       "      <th>scale</th>\n",
       "      <th>lognormal</th>\n",
       "    </tr>\n",
       "    <tr>\n",
       "      <th>random_number</th>\n",
       "      <th></th>\n",
       "      <th></th>\n",
       "    </tr>\n",
       "  </thead>\n",
       "  <tbody>\n",
       "    <tr>\n",
       "      <th>0.000133</th>\n",
       "      <td>1</td>\n",
       "      <td>1</td>\n",
       "    </tr>\n",
       "    <tr>\n",
       "      <th>0.000135</th>\n",
       "      <td>1</td>\n",
       "      <td>1</td>\n",
       "    </tr>\n",
       "    <tr>\n",
       "      <th>0.000208</th>\n",
       "      <td>1</td>\n",
       "      <td>1</td>\n",
       "    </tr>\n",
       "    <tr>\n",
       "      <th>0.000259</th>\n",
       "      <td>1</td>\n",
       "      <td>1</td>\n",
       "    </tr>\n",
       "    <tr>\n",
       "      <th>0.000308</th>\n",
       "      <td>1</td>\n",
       "      <td>1</td>\n",
       "    </tr>\n",
       "    <tr>\n",
       "      <th>...</th>\n",
       "      <td>...</td>\n",
       "      <td>...</td>\n",
       "    </tr>\n",
       "    <tr>\n",
       "      <th>0.999380</th>\n",
       "      <td>1</td>\n",
       "      <td>1</td>\n",
       "    </tr>\n",
       "    <tr>\n",
       "      <th>0.999620</th>\n",
       "      <td>1</td>\n",
       "      <td>1</td>\n",
       "    </tr>\n",
       "    <tr>\n",
       "      <th>0.999731</th>\n",
       "      <td>1</td>\n",
       "      <td>1</td>\n",
       "    </tr>\n",
       "    <tr>\n",
       "      <th>0.999770</th>\n",
       "      <td>1</td>\n",
       "      <td>1</td>\n",
       "    </tr>\n",
       "    <tr>\n",
       "      <th>0.999889</th>\n",
       "      <td>1</td>\n",
       "      <td>1</td>\n",
       "    </tr>\n",
       "  </tbody>\n",
       "</table>\n",
       "<p>10000 rows × 2 columns</p>\n",
       "</div>"
      ],
      "text/plain": [
       "               scale  lognormal\n",
       "random_number                  \n",
       "0.000133           1          1\n",
       "0.000135           1          1\n",
       "0.000208           1          1\n",
       "0.000259           1          1\n",
       "0.000308           1          1\n",
       "...              ...        ...\n",
       "0.999380           1          1\n",
       "0.999620           1          1\n",
       "0.999731           1          1\n",
       "0.999770           1          1\n",
       "0.999889           1          1\n",
       "\n",
       "[10000 rows x 2 columns]"
      ]
     },
     "execution_count": 9,
     "metadata": {},
     "output_type": "execute_result"
    }
   ],
   "source": [
    "df.groupby('random_number').count()"
   ]
  },
  {
   "cell_type": "code",
   "execution_count": 10,
   "id": "3e252e1e",
   "metadata": {},
   "outputs": [
    {
     "data": {
      "text/html": [
       "<div>\n",
       "<style scoped>\n",
       "    .dataframe tbody tr th:only-of-type {\n",
       "        vertical-align: middle;\n",
       "    }\n",
       "\n",
       "    .dataframe tbody tr th {\n",
       "        vertical-align: top;\n",
       "    }\n",
       "\n",
       "    .dataframe thead th {\n",
       "        text-align: right;\n",
       "    }\n",
       "</style>\n",
       "<table border=\"1\" class=\"dataframe\">\n",
       "  <thead>\n",
       "    <tr style=\"text-align: right;\">\n",
       "      <th></th>\n",
       "      <th>random_number</th>\n",
       "      <th>lognormal</th>\n",
       "    </tr>\n",
       "    <tr>\n",
       "      <th>scale</th>\n",
       "      <th></th>\n",
       "      <th></th>\n",
       "    </tr>\n",
       "  </thead>\n",
       "  <tbody>\n",
       "    <tr>\n",
       "      <th>1</th>\n",
       "      <td>0.504751</td>\n",
       "      <td>2.836393</td>\n",
       "    </tr>\n",
       "    <tr>\n",
       "      <th>2</th>\n",
       "      <td>0.503950</td>\n",
       "      <td>11.825797</td>\n",
       "    </tr>\n",
       "    <tr>\n",
       "      <th>3</th>\n",
       "      <td>0.494904</td>\n",
       "      <td>138.104528</td>\n",
       "    </tr>\n",
       "  </tbody>\n",
       "</table>\n",
       "</div>"
      ],
      "text/plain": [
       "       random_number   lognormal\n",
       "scale                           \n",
       "1           0.504751    2.836393\n",
       "2           0.503950   11.825797\n",
       "3           0.494904  138.104528"
      ]
     },
     "execution_count": 10,
     "metadata": {},
     "output_type": "execute_result"
    }
   ],
   "source": [
    "df.groupby('scale').mean()"
   ]
  },
  {
   "cell_type": "markdown",
   "id": "8f00f674",
   "metadata": {},
   "source": [
    "<a id='quick-visualization'></a>\n",
    "### Quick Visualization with `.plot`\n",
    "\n",
    "\n",
    "- Pandas integrates basic plotting via the `.plot()` method, built on Matplotlib.\n",
    "- Useful for **quick exploration** of Series or DataFrames."
   ]
  },
  {
   "cell_type": "code",
   "execution_count": 11,
   "id": "a0392b66",
   "metadata": {},
   "outputs": [
    {
     "data": {
      "text/plain": [
       "<Axes: title={'center': 'Simple Series Plot'}>"
      ]
     },
     "execution_count": 11,
     "metadata": {},
     "output_type": "execute_result"
    },
    {
     "data": {
      "image/png": "[encoded data removed]",
      "text/plain": [
       "<Figure size 640x480 with 1 Axes>"
      ]
     },
     "metadata": {},
     "output_type": "display_data"
    }
   ],
   "source": [
    "### Example: Series plot\n",
    "s = pd.Series([1, 3, 2, 4, 5], index=[\"a\",\"b\",\"c\",\"d\",\"e\"])\n",
    "s.plot(kind=\"line\", title=\"Simple Series Plot\")"
   ]
  },
  {
   "cell_type": "code",
   "execution_count": 12,
   "id": "823d35a2",
   "metadata": {},
   "outputs": [
    {
     "data": {
      "text/plain": [
       "<Axes: title={'center': 'Value by Category'}, xlabel='Category'>"
      ]
     },
     "execution_count": 12,
     "metadata": {},
     "output_type": "execute_result"
    },
    {
     "data": {
      "image/png": "[encoded data removed]",
      "text/plain": [
       "<Figure size 640x480 with 1 Axes>"
      ]
     },
     "metadata": {},
     "output_type": "display_data"
    }
   ],
   "source": [
    "### Example: Grouped DataFrame plot\n",
    "df = pd.DataFrame({\n",
    "'Category': ['A','A','B','B','C','C'],\n",
    "'Value': [10,15,10,20,5,15]\n",
    "})\n",
    "\n",
    "grouped = df.groupby('Category')['Value'].sum()\n",
    "grouped.plot(kind=\"bar\", title=\"Value by Category\")"
   ]
  },
  {
   "cell_type": "markdown",
   "id": "b3c10f66",
   "metadata": {},
   "source": [
    "\n",
    "\n",
    "- Supported plot kinds: `line`, `bar`, `hist`, `box`, etc.\n",
    "- Great for exploration, but for publication-quality graphics use dedicated libraries (Matplotlib, Seaborn, etc.)."
   ]
  },
  {
   "cell_type": "markdown",
   "id": "6f4aa6d8",
   "metadata": {},
   "source": [
    "<a id='inputoutput'></a>\n",
    "### Input/Output\n",
    "- Common file formats: CSV, FITS (or maybe ASDF), Parquet, SQL, JSON, etc. (**Please always use standards**)\n",
    "  - `pd.read_csv()` is the most common entry point.\n",
    "  - pandas does not read directly FITS files\n",
    "    - one solution: [Table](https://docs.astropy.org/en/stable/io/unified_table_fits.html) method from astropy\n",
    "- Always inspect results: `.head()`, `.info()`, `.dtypes`.\n",
    "  - Even more: DataFrame *plot* method\n",
    "\n",
    "(*) Note: we strongly recommend to use PARQUET files"
   ]
  },
  {
   "cell_type": "markdown",
   "id": "609d9602",
   "metadata": {},
   "source": [
    "<a id='large-data-considerations'></a>\n",
    "### Large data considerations\n",
    "- Strategies:\n",
    "  - Use `chunksize` for incremental loading.\n",
    "  - Load only needed columns.\n",
    "- Alternatives:\n",
    "  - **Dask DataFrame:** scales pandas to big data.\n",
    "  - **[Polars](https://docs.pola.rs/):** modern, fast, Arrow-based library."
   ]
  },
  {
   "cell_type": "markdown",
   "id": "cf3d8b08",
   "metadata": {},
   "source": [
    "<a id='some-more-functions'></a>\n",
    "### Some more functions\n",
    "- [Looping a dataframe (iterrows)](https://pandas.pydata.org/pandas-docs/stable/generated/pandas.DataFrame.iterrows.html)\n",
    "- [Sort method](https://pandas.pydata.org/pandas-docs/stable/generated/pandas.DataFrame.sort_values.html)\n",
    "- [sample method](https://pandas.pydata.org/pandas-docs/stable/generated/pandas.DataFrame.sample.html)\n",
    "- [Reshape dataframes (pivot, stack, unstack)](http://nikgrozev.com/2015/07/01/reshaping-in-pandas-pivot-pivot-table-stack-and-unstack-explained-with-pictures/)\n",
    "- Data cleaning:\n",
    "    - [check for missing values (isnull)](https://pandas.pydata.org/pandas-docs/stable/generated/pandas.DataFrame.isnull.html)\n",
    "    - [drop missing values (dropna)](https://pandas.pydata.org/pandas-docs/stable/generated/pandas.DataFrame.dropna.html)\n",
    "    - [fill the missing values with other values (fillna)](https://pandas.pydata.org/pandas-docs/stable/generated/pandas.DataFrame.fillna.html)\n",
    "    - [replace values with different values (replace)](https://pandas.pydata.org/pandas-docs/stable/generated/pandas.DataFrame.replace.html)\n"
   ]
  },
  {
   "cell_type": "code",
   "execution_count": null,
   "id": "7babf4d6",
   "metadata": {},
   "outputs": [],
   "source": []
  }
 ],
 "metadata": {
  "jupytext": {
   "formats": "auto:percent,ipynb"
  },
  "kernelspec": {
   "display_name": "base",
   "language": "python",
   "name": "python3"
  },
  "language_info": {
   "codemirror_mode": {
    "name": "ipython",
    "version": 3
   },
   "file_extension": ".py",
   "mimetype": "text/x-python",
   "name": "python",
   "nbconvert_exporter": "python",
   "pygments_lexer": "ipython3",
   "version": "3.13.5"
  }
 },
 "nbformat": 4,
 "nbformat_minor": 5
}
