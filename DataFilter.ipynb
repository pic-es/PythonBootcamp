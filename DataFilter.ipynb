{
 "cells": [
  {
   "cell_type": "markdown",
   "id": "ceea0f43-2307-492a-99e3-0c8a1004d1cc",
   "metadata": {},
   "source": [
    "## Load the CSV data"
   ]
  },
  {
   "cell_type": "code",
   "execution_count": 1,
   "id": "39c1bca5-f6ab-49e3-ba42-e7fbc04800a8",
   "metadata": {},
   "outputs": [],
   "source": [
    "import pandas as pd"
   ]
  },
  {
   "cell_type": "code",
   "execution_count": 2,
   "id": "4acc9ade-909e-4451-af5c-1cc4c53ffdd7",
   "metadata": {},
   "outputs": [],
   "source": [
    "ZOO_DATA = '/home/torradeflot/Downloads/ZooSpecPhotoDR19_torradeflot.csv'"
   ]
  },
  {
   "cell_type": "code",
   "execution_count": 3,
   "id": "469646b5-e318-4888-8ecd-93390ec4fb16",
   "metadata": {},
   "outputs": [],
   "source": [
    "df = pd.read_csv(ZOO_DATA)"
   ]
  },
  {
   "cell_type": "markdown",
   "id": "90531aa7-c2dd-4ea9-8409-9d8088d2266d",
   "metadata": {},
   "source": [
    "# Filter out incorrect data"
   ]
  },
  {
   "cell_type": "markdown",
   "id": "ecad9ddd-5ea2-4853-b951-dd42e6c3fb1d",
   "metadata": {},
   "source": [
    "According to the documentation, we will be using the Model magnitude. We filter out the objects without a proper magnitude: https://www.sdss4.org/dr12/algorithms/magnitudes/\n",
    "\n",
    "We will apply a restrictive threshold in the zooSpec table to decide if an object was successfully classified\n",
    "\n",
    "We will only keep the objects that are reasonable big, but still fit comfortably in the cutouts."
   ]
  },
  {
   "cell_type": "code",
   "execution_count": 4,
   "id": "6da8a6d5-70f0-4ab9-a8b3-5f9c2821628f",
   "metadata": {},
   "outputs": [],
   "source": [
    "m = (\n",
    "    (df.modelMag_u >-30) & (df.modelMag_g > -30) & (df.modelMag_r > -30) & (df.modelMag_i > -30) & (df.modelMag_z > -30) # correct magnitudes\n",
    "    & (df.modelMagErr_u < 0.5) & (df.modelMagErr_g < 0.05) & (df.modelMagErr_r < 0.05) & (df.modelMagErr_i < 0.05) & (df.modelMagErr_z < 0.1) # reasonable errors\n",
    "    & ((df.p_cs_debiased >= 0.9) | (df.p_el_debiased >= 0.9)) # very certain about the classification\n",
    "    & (df.petroR90_r*2*1.5/0.4 < 64) & (df.petroR90_r*2/0.4 > 20) # Medium sized\n",
    ")"
   ]
  },
  {
   "cell_type": "code",
   "execution_count": 5,
   "id": "b85b8cab-b6cb-48ee-93d6-45cb7c1500d4",
   "metadata": {},
   "outputs": [
    {
     "data": {
      "text/plain": [
       "(659272, 69352)"
      ]
     },
     "execution_count": 5,
     "metadata": {},
     "output_type": "execute_result"
    }
   ],
   "source": [
    "len(df), len(df[m])"
   ]
  },
  {
   "cell_type": "code",
   "execution_count": 6,
   "id": "ef9d7185-45bb-4dd8-b7ea-043813f7186b",
   "metadata": {},
   "outputs": [],
   "source": [
    "cols_to_keep = ['specobjid', 'objid', 'dr7objid', 'ra', 'dec', 'p_el_debiased', 'p_cs_debiased', 'spiral', 'elliptical'] + \\\n",
    "    ['petroR50_r', 'petroR90_r'] + [f'modelMag_{f}' for f in \"ugriz\"] + [f'extinction_{f}' for f in \"ugriz\"]\n",
    "df_filtered = df[m][cols_to_keep]"
   ]
  },
  {
   "cell_type": "code",
   "execution_count": 7,
   "id": "d4682fb3-2b57-4445-b1f2-05944269db4b",
   "metadata": {},
   "outputs": [],
   "source": [
    "df_filtered.to_csv('resources/ZooSpecPhotoDR19_filtered.csv')"
   ]
  },
  {
   "cell_type": "code",
   "execution_count": null,
   "id": "1f6e69e5-a825-41be-af48-efdb7dd273fb",
   "metadata": {},
   "outputs": [],
   "source": []
  }
 ],
 "metadata": {
  "kernelspec": {
   "display_name": "Python 3 (ipykernel)",
   "language": "python",
   "name": "python3"
  },
  "language_info": {
   "codemirror_mode": {
    "name": "ipython",
    "version": 3
   },
   "file_extension": ".py",
   "mimetype": "text/x-python",
   "name": "python",
   "nbconvert_exporter": "python",
   "pygments_lexer": "ipython3",
   "version": "3.13.5"
  }
 },
 "nbformat": 4,
 "nbformat_minor": 5
}
