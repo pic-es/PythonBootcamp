{
 "cells": [
  {
   "cell_type": "markdown",
   "id": "2848307e-f199-45e3-9702-e8d9307a5cf9",
   "metadata": {},
   "source": [
    "# Data Retrieval\n",
    "\n",
    "We will be using data from the [Galaxy Zoo 1](https://www.zooniverse.org/projects/zookeeper/galaxy-zoo/about/results#galaxy-zoo-1)\n",
    "\n",
    "Which can be easily accessed in [SDSSs' DR19 SkyServer](https://skyserver.sdss.org/dr19/en/home.aspx) through SQL queries. You will need to get an account.\n",
    "\n",
    "For our purpose we need 3 datasets:\n",
    "* Galaxy morphology classification (elliptical or spiral), coming from [zooVotes table](https://skyserver.sdss.org/dr14/en/help/browser/browser.aspx#&&history=description+zooVotes+U) or [zooSpec table](https://skyserver.sdss.org/dr14/en/help/browser/browser.aspx#&&history=description+zooSpec+U). To be used as the target to train the ML model\n",
    "* Photometry data of the objects with a morphology classification from [PhotoObjAll](https://skyserver.sdss.org/dr14/en/help/browser/browser.aspx#&&history=description+PhotoObjAll+U) or [PhotoObjDR7](https://skyserver.sdss.org/dr14/en/help/browser/browser.aspx#&&history=description+PhotoObjDR7+U). Can be used for the selection of the objects of interest and also as features ML model.\n",
    "* Images of galaxies to be used as features for the ML model. From the [cutout service:](https://skyserver.sdss.org/dr14/en/tools/chart/image.aspx)\n",
    "\n",
    "\n",
    "## Galaxy Zoo and SDSS Photometry data\n",
    "\n",
    "\n",
    "Submit the query below into a [CAS Job](https://skyserver.sdss.org/CasJobs/default.aspx) and download the dataset in CSV format.\n",
    "\n",
    "```\n",
    "select ZooSpec.*, PhotoObjDR7.* into MyDB.ZooSpecPhoto from ZooSpec inner join PhotoObjDR7 on PhotoObjDR7.dr7objid=ZooSpec.dr7objid\n",
    "```\n",
    "\n",
    "\n"
   ]
  },
  {
   "cell_type": "markdown",
   "id": "70ac52be-ed14-489b-86dd-c2c641bfadc7",
   "metadata": {},
   "source": [
    "## Load the CSV data"
   ]
  },
  {
   "cell_type": "code",
   "execution_count": 1,
   "id": "4d85b291-99b4-4e87-b07d-523231928d3a",
   "metadata": {},
   "outputs": [],
   "source": [
    "import pandas as pd"
   ]
  },
  {
   "cell_type": "code",
   "execution_count": 2,
   "id": "5c602a6b-658f-4327-b509-dbd80a33a5df",
   "metadata": {},
   "outputs": [],
   "source": [
    "ZOO_DATA = '/home/torradeflot/Downloads/ZooSpecPhotoDR19_torradeflot.csv'"
   ]
  },
  {
   "cell_type": "code",
   "execution_count": 3,
   "id": "bc6725a5-bd67-4dc2-a240-470a5025c767",
   "metadata": {},
   "outputs": [],
   "source": [
    "df = pd.read_csv(ZOO_DATA)"
   ]
  },
  {
   "cell_type": "code",
   "execution_count": 5,
   "id": "fef351bf-804f-43c4-9497-1b084c8abaf2",
   "metadata": {},
   "outputs": [
    {
     "name": "stdout",
     "output_type": "stream",
     "text": [
      "<class 'pandas.core.frame.DataFrame'>\n",
      "RangeIndex: 659272 entries, 0 to 659271\n",
      "Data columns (total 90 columns):\n",
      " #   Column         Non-Null Count   Dtype  \n",
      "---  ------         --------------   -----  \n",
      " 0   specobjid      659272 non-null  int64  \n",
      " 1   objid          659272 non-null  int64  \n",
      " 2   dr7objid       659272 non-null  int64  \n",
      " 3   ra             659272 non-null  float64\n",
      " 4   dec            659272 non-null  float64\n",
      " 5   rastring       659272 non-null  object \n",
      " 6   decstring      659272 non-null  object \n",
      " 7   nvote          659272 non-null  int64  \n",
      " 8   p_el           659272 non-null  float64\n",
      " 9   p_cw           659272 non-null  float64\n",
      " 10  p_acw          659272 non-null  float64\n",
      " 11  p_edge         659272 non-null  float64\n",
      " 12  p_dk           659272 non-null  float64\n",
      " 13  p_mg           659272 non-null  float64\n",
      " 14  p_cs           659272 non-null  float64\n",
      " 15  p_el_debiased  659272 non-null  float64\n",
      " 16  p_cs_debiased  659272 non-null  float64\n",
      " 17  spiral         659272 non-null  int64  \n",
      " 18  elliptical     659272 non-null  int64  \n",
      " 19  uncertain      659272 non-null  int64  \n",
      " 20  Column1        659272 non-null  int64  \n",
      " 21  dr8objid       659272 non-null  int64  \n",
      " 22  distance       659272 non-null  float64\n",
      " 23  modeDR7        659272 non-null  int64  \n",
      " 24  modeDR8        659272 non-null  int64  \n",
      " 25  skyVersion     659272 non-null  int64  \n",
      " 26  run            659272 non-null  int64  \n",
      " 27  rerun          659272 non-null  int64  \n",
      " 28  camcol         659272 non-null  int64  \n",
      " 29  field          659272 non-null  int64  \n",
      " 30  obj            659272 non-null  int64  \n",
      " 31  nChild         659272 non-null  int64  \n",
      " 32  type           659272 non-null  int64  \n",
      " 33  probPSF        659272 non-null  int64  \n",
      " 34  insideMask     659272 non-null  int64  \n",
      " 35  flags          659272 non-null  int64  \n",
      " 36  psfMag_u       659272 non-null  float64\n",
      " 37  psfMag_g       659272 non-null  float64\n",
      " 38  psfMag_r       659272 non-null  float64\n",
      " 39  psfMag_i       659272 non-null  float64\n",
      " 40  psfMag_z       659272 non-null  float64\n",
      " 41  psfMagErr_u    659272 non-null  float64\n",
      " 42  psfMagErr_g    659272 non-null  float64\n",
      " 43  psfMagErr_r    659272 non-null  float64\n",
      " 44  psfMagErr_i    659272 non-null  float64\n",
      " 45  psfMagErr_z    659272 non-null  float64\n",
      " 46  petroMag_u     659272 non-null  float64\n",
      " 47  petroMag_g     659272 non-null  float64\n",
      " 48  petroMag_r     659272 non-null  float64\n",
      " 49  petroMag_i     659272 non-null  float64\n",
      " 50  petroMag_z     659272 non-null  float64\n",
      " 51  petroMagErr_u  659272 non-null  float64\n",
      " 52  petroMagErr_g  659272 non-null  float64\n",
      " 53  petroMagErr_r  659272 non-null  float64\n",
      " 54  petroMagErr_i  659272 non-null  float64\n",
      " 55  petroMagErr_z  659272 non-null  float64\n",
      " 56  petroR50_r     659272 non-null  float64\n",
      " 57  petroR90_r     659272 non-null  float64\n",
      " 58  modelMag_u     659272 non-null  float64\n",
      " 59  modelMag_g     659272 non-null  float64\n",
      " 60  modelMag_r     659272 non-null  float64\n",
      " 61  modelMag_i     659272 non-null  float64\n",
      " 62  modelMag_z     659272 non-null  float64\n",
      " 63  modelMagErr_u  659272 non-null  float64\n",
      " 64  modelMagErr_g  659272 non-null  float64\n",
      " 65  modelMagErr_r  659272 non-null  float64\n",
      " 66  modelMagErr_i  659272 non-null  float64\n",
      " 67  modelMagErr_z  659272 non-null  float64\n",
      " 68  mRrCc_r        659272 non-null  float64\n",
      " 69  mRrCcErr_r     659272 non-null  float64\n",
      " 70  lnLStar_r      659272 non-null  float64\n",
      " 71  lnLExp_r       659272 non-null  float64\n",
      " 72  lnLDeV_r       659272 non-null  float64\n",
      " 73  status         659272 non-null  int64  \n",
      " 74  Column2        659272 non-null  float64\n",
      " 75  Column3        659272 non-null  float64\n",
      " 76  cx             659272 non-null  float64\n",
      " 77  cy             659272 non-null  float64\n",
      " 78  cz             659272 non-null  float64\n",
      " 79  primTarget     659272 non-null  int64  \n",
      " 80  secTarget      659272 non-null  int64  \n",
      " 81  extinction_u   659272 non-null  float64\n",
      " 82  extinction_g   659272 non-null  float64\n",
      " 83  extinction_r   659272 non-null  float64\n",
      " 84  extinction_i   659272 non-null  float64\n",
      " 85  extinction_z   659272 non-null  float64\n",
      " 86  htmID          659272 non-null  int64  \n",
      " 87  fieldID        659272 non-null  int64  \n",
      " 88  Column4        659272 non-null  int64  \n",
      " 89  size           659272 non-null  float64\n",
      "dtypes: float64(60), int64(28), object(2)\n",
      "memory usage: 452.7+ MB\n"
     ]
    }
   ],
   "source": [
    "df.info()"
   ]
  },
  {
   "cell_type": "code",
   "execution_count": 26,
   "id": "6a260c0f-46a2-404a-8478-17f75fc3a1a1",
   "metadata": {},
   "outputs": [
    {
     "data": {
      "text/plain": [
       "'452.69 MiB'"
      ]
     },
     "execution_count": 26,
     "metadata": {},
     "output_type": "execute_result"
    }
   ],
   "source": [
    "f'{df.memory_usage().values.sum()/1024/1024:.2f} MiB'"
   ]
  },
  {
   "cell_type": "code",
   "execution_count": 29,
   "id": "b423e525-8556-4654-be91-c0dbcad0d107",
   "metadata": {},
   "outputs": [
    {
     "data": {
      "text/html": [
       "<div>\n",
       "<style scoped>\n",
       "    .dataframe tbody tr th:only-of-type {\n",
       "        vertical-align: middle;\n",
       "    }\n",
       "\n",
       "    .dataframe tbody tr th {\n",
       "        vertical-align: top;\n",
       "    }\n",
       "\n",
       "    .dataframe thead th {\n",
       "        text-align: right;\n",
       "    }\n",
       "</style>\n",
       "<table border=\"1\" class=\"dataframe\">\n",
       "  <thead>\n",
       "    <tr style=\"text-align: right;\">\n",
       "      <th></th>\n",
       "      <th>specobjid</th>\n",
       "      <th>objid</th>\n",
       "      <th>dr7objid</th>\n",
       "      <th>ra</th>\n",
       "      <th>dec</th>\n",
       "      <th>rastring</th>\n",
       "      <th>decstring</th>\n",
       "      <th>nvote</th>\n",
       "      <th>p_el</th>\n",
       "      <th>p_cw</th>\n",
       "      <th>...</th>\n",
       "      <th>secTarget</th>\n",
       "      <th>extinction_u</th>\n",
       "      <th>extinction_g</th>\n",
       "      <th>extinction_r</th>\n",
       "      <th>extinction_i</th>\n",
       "      <th>extinction_z</th>\n",
       "      <th>htmID</th>\n",
       "      <th>fieldID</th>\n",
       "      <th>Column4</th>\n",
       "      <th>size</th>\n",
       "    </tr>\n",
       "  </thead>\n",
       "  <tbody>\n",
       "    <tr>\n",
       "      <th>0</th>\n",
       "      <td>1578595830217074688</td>\n",
       "      <td>1237661463301455961</td>\n",
       "      <td>587735742076551256</td>\n",
       "      <td>233.8266</td>\n",
       "      <td>34.68083</td>\n",
       "      <td>15:35:18.38</td>\n",
       "      <td>+34:40:51.0</td>\n",
       "      <td>29</td>\n",
       "      <td>0.207</td>\n",
       "      <td>0.0</td>\n",
       "      <td>...</td>\n",
       "      <td>0</td>\n",
       "      <td>0.113520</td>\n",
       "      <td>0.083527</td>\n",
       "      <td>0.060581</td>\n",
       "      <td>0.045937</td>\n",
       "      <td>0.032570</td>\n",
       "      <td>15330488891386</td>\n",
       "      <td>587735742076551168</td>\n",
       "      <td>394855002142670848</td>\n",
       "      <td>6.489538</td>\n",
       "    </tr>\n",
       "    <tr>\n",
       "      <th>1</th>\n",
       "      <td>1578598304118237184</td>\n",
       "      <td>1237661463301456237</td>\n",
       "      <td>587735742076551517</td>\n",
       "      <td>233.7615</td>\n",
       "      <td>34.60428</td>\n",
       "      <td>15:35:02.75</td>\n",
       "      <td>+34:36:15.4</td>\n",
       "      <td>40</td>\n",
       "      <td>0.000</td>\n",
       "      <td>1.0</td>\n",
       "      <td>...</td>\n",
       "      <td>0</td>\n",
       "      <td>0.113007</td>\n",
       "      <td>0.083150</td>\n",
       "      <td>0.060307</td>\n",
       "      <td>0.045729</td>\n",
       "      <td>0.032422</td>\n",
       "      <td>15330488568818</td>\n",
       "      <td>587735742076551168</td>\n",
       "      <td>394855002180419584</td>\n",
       "      <td>4.706573</td>\n",
       "    </tr>\n",
       "  </tbody>\n",
       "</table>\n",
       "<p>2 rows × 90 columns</p>\n",
       "</div>"
      ],
      "text/plain": [
       "             specobjid                objid            dr7objid        ra  \\\n",
       "0  1578595830217074688  1237661463301455961  587735742076551256  233.8266   \n",
       "1  1578598304118237184  1237661463301456237  587735742076551517  233.7615   \n",
       "\n",
       "        dec     rastring    decstring  nvote   p_el  p_cw  ...  secTarget  \\\n",
       "0  34.68083  15:35:18.38  +34:40:51.0     29  0.207   0.0  ...          0   \n",
       "1  34.60428  15:35:02.75  +34:36:15.4     40  0.000   1.0  ...          0   \n",
       "\n",
       "   extinction_u  extinction_g  extinction_r  extinction_i  extinction_z  \\\n",
       "0      0.113520      0.083527      0.060581      0.045937      0.032570   \n",
       "1      0.113007      0.083150      0.060307      0.045729      0.032422   \n",
       "\n",
       "            htmID             fieldID             Column4      size  \n",
       "0  15330488891386  587735742076551168  394855002142670848  6.489538  \n",
       "1  15330488568818  587735742076551168  394855002180419584  4.706573  \n",
       "\n",
       "[2 rows x 90 columns]"
      ]
     },
     "execution_count": 29,
     "metadata": {},
     "output_type": "execute_result"
    }
   ],
   "source": [
    "df.head(2)"
   ]
  },
  {
   "cell_type": "markdown",
   "id": "ba25f741-b5ec-4220-bd7a-9add31b934dc",
   "metadata": {},
   "source": [
    "## Image data\n",
    "\n",
    "Two different cutout services:\n",
    "\n",
    "* [SDSS Cutout service](https://skyserver.sdss.org/dr19/VisualTools) (0.4 s/img)\n",
    "* [HIPS2FITS](https://alasky.cds.unistra.fr/hips-image-services/hips2fits) (0.3 s/img)\n",
    "* [Legacy Survey](https://www.legacysurvey.org/svtips/) (VERY SLOW! 2-4 s/img)\n"
   ]
  },
  {
   "cell_type": "code",
   "execution_count": 147,
   "id": "285babed-17ba-47a7-b1f9-e4d8772d4470",
   "metadata": {},
   "outputs": [],
   "source": [
    "from pathlib import Path\n",
    "import urllib\n",
    "import time\n",
    "import concurrent.futures\n",
    "\n",
    "IMAGE_PIXSCALE = 0.4 # arcsec/pixel\n",
    "IMAGE_SIZE_PX = 64\n",
    "IMAGE_WIDTH_PX = IMAGE_SIZE_PX\n",
    "IMAGE_HEIGHT_PX = IMAGE_SIZE_PX\n",
    "#URL = 'http://skyserver.sdss.org/dr14/SkyServerWS/ImgCutout/getjpeg?ra={ra}&dec={dec}&scale={scale}&width={width}&height={height}'\n",
    "URL = (\n",
    "    'https://skyserver.sdss.org/DR19/SkyserverWS/ImgCutout/getjpeg?'\n",
    "    'ra={ra}&dec={dec}&scale={scale}&width={width}&height={height}'\n",
    ")\n",
    "\n",
    "FOLDER_NAME = 'images/{scale}/{width}x{height}'\n",
    "FILE_NAME = 'ra{ra}_dec{dec}.jpg'\n",
    "\n",
    "SAMPLE_SIZE=100\n",
    "MAX_TRIES = 3\n",
    "\n",
    "def timing(f):\n",
    "    def wrap(*args):\n",
    "        time1 = time.time()\n",
    "        ret = f(*args)\n",
    "        time2 = time.time()\n",
    "        logging.info('%s function took %0.3f ms' % (f.func_name, (time2-time1)*1000.0))\n",
    "        return ret\n",
    "    return wrap\n",
    "\n",
    "def download_image_bytes(ra, dec, scale=IMAGE_PIXSCALE, width=IMAGE_WIDTH_PX, height=IMAGE_HEIGHT_PX):\n",
    "    n_tries = 0\n",
    "    while n_tries < MAX_TRIES:\n",
    "        try:\n",
    "            url = URL.format(ra=ra, dec=dec, scale=scale, width=width, height=height)\n",
    "            response = urllib2.urlopen(url)\n",
    "        except Exception as e:\n",
    "            logging.error(''.join(traceback.format_exception(*sys.exc_info())))\n",
    "            n_tries += 1\n",
    "            if n_tries < MAX_TRIES:\n",
    "                logging.info('Going to retry')\n",
    "            else:\n",
    "                raise Exception('Number of allowed retries exceeded!')\n",
    "\n",
    "    return response\n",
    "\n",
    "def download_image_jpg(\n",
    "    objid, ra, dec, scale=IMAGE_PIXSCALE, width=IMAGE_WIDTH_PX,\n",
    "    height=IMAGE_HEIGHT_PX, root_folder='.', service='SDSS'\n",
    "):\n",
    "\n",
    "    folder = str(objid % 100)\n",
    "\n",
    "    p = Path(root_folder)\n",
    "    child_folder = p / folder\n",
    "    child_folder.mkdir(parents=True, exist_ok=True)\n",
    "        \n",
    "    whole_file_path = child_folder / f'{objid}.jpg'\n",
    "    if whole_file_path.exists():\n",
    "        print('file already exists: {}'.format(whole_file_path))\n",
    "    else:\n",
    "        n_tries = 0\n",
    "        downloaded = False\n",
    "        while n_tries < 3 and (not downloaded):\n",
    "            try:\n",
    "                url = get_url(service, ra=ra, dec=dec, scale=scale, width=width, height=height)\n",
    "                urllib.request.urlretrieve(url, whole_file_path)\n",
    "                downloaded = True\n",
    "            except:\n",
    "                n_tries += 1\n",
    "                time.sleep(0.1)\n",
    "        if n_tries >=3 and not downloaded:\n",
    "            raise Exception(f'Number of tries exceeded for object {objid}')\n",
    "\n",
    "def download_image_batch(\n",
    "    images,\n",
    "    scale=IMAGE_PIXSCALE, width=IMAGE_WIDTH_PX,\n",
    "    height=IMAGE_HEIGHT_PX, root_folder='.', service='SDSS',\n",
    "    max_workers=10\n",
    "):\n",
    "    # We can use a with statement to ensure threads are cleaned up promptly\n",
    "    with concurrent.futures.ThreadPoolExecutor(max_workers=max_workers) as executor:\n",
    "        # Start the load operations and mark each future with its URL\n",
    "        future_to_url = {executor.submit(\n",
    "            download_image_jpg,\n",
    "            **image,\n",
    "            root_folder=root_folder,\n",
    "            service=service\n",
    "        ): image for image in images}\n",
    "        for future in concurrent.futures.as_completed(future_to_url):\n",
    "            url = future_to_url[future]\n",
    "            try:\n",
    "                data = future.result()\n",
    "            except Exception as exc:\n",
    "                print('%r generated an exception: %s' % (url, exc))\n",
    "\n",
    "def get_url(service, *args, **kwargs):\n",
    "    if service == 'SDSS':\n",
    "        return get_SDSS_url(*args, **kwargs)\n",
    "    elif service == 'HIPS2FITS':\n",
    "        return get_HIPS2FITS_url(*args, **kwargs)\n",
    "    elif service == 'LEGACYSURVEY':\n",
    "        return get_LEGACYSURVEY_url(*args, **kwargs)\n",
    "    else:\n",
    "        raise Exception(f'Service={service} not allowed, choose one of [SDSS, HIPS2FITS, LEGACYSURVEY]')\n",
    "\n",
    "def get_SDSS_url(ra, dec, scale, width, height):\n",
    "    return URL.format(ra=ra, dec=dec, scale=scale, width=width, height=height)\n",
    "\n",
    "HIPS2FITS_URL = (\n",
    "    'https://alasky.cds.unistra.fr/hips-image-services/hips2fits?'\n",
    "    'hips=CDS%2FP%2FSDSS9%2Fcolor'\n",
    "    '&width={width}&height={height}&fov={fov}&projection=TAN'\n",
    "    '&ra={ra}&dec={dec}'\n",
    "    '&format=jpg'\n",
    ")\n",
    "\n",
    "def get_HIPS2FITS_url(ra, dec, scale, width, height):\n",
    "    fov = max(width, height)*scale/3600\n",
    "    return HIPS2FITS_URL.format(ra=ra, dec=dec, fov=fov, width=width, height=height)\n",
    "\n",
    "LEGACYSURVEY_URL = (\n",
    "    \"https://www.legacysurvey.org/viewer/cutout.jpg?\"\n",
    "    \"ra={ra}&dec={dec}&pixscale={scale}&layer=sdss&size={size}\"\n",
    ")\n",
    "def get_LEGACYSURVEY_url(ra, dec, scale, width, height):\n",
    "    return LEGACYSURVEY_URL.format(ra=ra, dec=dec, scale=scale, size=max(width, height))\n"
   ]
  },
  {
   "cell_type": "code",
   "execution_count": 30,
   "id": "0761f610-97f8-4b56-a38e-e267edbb1126",
   "metadata": {},
   "outputs": [
    {
     "data": {
      "text/html": [
       "<div>\n",
       "<style scoped>\n",
       "    .dataframe tbody tr th:only-of-type {\n",
       "        vertical-align: middle;\n",
       "    }\n",
       "\n",
       "    .dataframe tbody tr th {\n",
       "        vertical-align: top;\n",
       "    }\n",
       "\n",
       "    .dataframe thead th {\n",
       "        text-align: right;\n",
       "    }\n",
       "</style>\n",
       "<table border=\"1\" class=\"dataframe\">\n",
       "  <thead>\n",
       "    <tr style=\"text-align: right;\">\n",
       "      <th></th>\n",
       "      <th>objid</th>\n",
       "      <th>ra</th>\n",
       "      <th>dec</th>\n",
       "    </tr>\n",
       "  </thead>\n",
       "  <tbody>\n",
       "    <tr>\n",
       "      <th>0</th>\n",
       "      <td>1237661463301455961</td>\n",
       "      <td>233.8266</td>\n",
       "      <td>34.68083</td>\n",
       "    </tr>\n",
       "    <tr>\n",
       "      <th>1</th>\n",
       "      <td>1237661463301456237</td>\n",
       "      <td>233.7615</td>\n",
       "      <td>34.60428</td>\n",
       "    </tr>\n",
       "    <tr>\n",
       "      <th>2</th>\n",
       "      <td>1237661463301521615</td>\n",
       "      <td>233.9120</td>\n",
       "      <td>34.54070</td>\n",
       "    </tr>\n",
       "    <tr>\n",
       "      <th>3</th>\n",
       "      <td>1237661463301521650</td>\n",
       "      <td>233.9483</td>\n",
       "      <td>34.48045</td>\n",
       "    </tr>\n",
       "    <tr>\n",
       "      <th>4</th>\n",
       "      <td>1237661463301587266</td>\n",
       "      <td>234.0413</td>\n",
       "      <td>34.49664</td>\n",
       "    </tr>\n",
       "  </tbody>\n",
       "</table>\n",
       "</div>"
      ],
      "text/plain": [
       "                 objid        ra       dec\n",
       "0  1237661463301455961  233.8266  34.68083\n",
       "1  1237661463301456237  233.7615  34.60428\n",
       "2  1237661463301521615  233.9120  34.54070\n",
       "3  1237661463301521650  233.9483  34.48045\n",
       "4  1237661463301587266  234.0413  34.49664"
      ]
     },
     "execution_count": 30,
     "metadata": {},
     "output_type": "execute_result"
    }
   ],
   "source": [
    "df[['objid', 'ra', 'dec']].head(5)"
   ]
  },
  {
   "cell_type": "code",
   "execution_count": 70,
   "id": "2ba510a0-b2dc-4354-9e52-d4506f73e4ac",
   "metadata": {},
   "outputs": [
    {
     "name": "stdout",
     "output_type": "stream",
     "text": [
      "ra,dec,objid\n",
      "233.8266,34.68083,1237661463301455961\n",
      "233.7615,34.60428,1237661463301456237\n",
      "233.912,34.5407,1237661463301521615\n",
      "233.9483,34.48045,1237661463301521650\n",
      "234.0413,34.49664,1237661463301587266\n",
      "\n"
     ]
    }
   ],
   "source": [
    "print(df[['ra', 'dec', 'objid']].head(5).to_csv(index=False))"
   ]
  },
  {
   "cell_type": "markdown",
   "id": "4f7d7ea7-0f1f-469e-8c9a-9ab554b92093",
   "metadata": {},
   "source": [
    "### Serial download"
   ]
  },
  {
   "cell_type": "code",
   "execution_count": 51,
   "id": "0a6ec799-d001-4c9b-aec5-4c8059d1a580",
   "metadata": {},
   "outputs": [
    {
     "name": "stdout",
     "output_type": "stream",
     "text": [
      "CPU times: user 6.07 ms, sys: 0 ns, total: 6.07 ms\n",
      "Wall time: 535 ms\n"
     ]
    }
   ],
   "source": [
    "%%time\n",
    "download_image_jpg(*df.iloc[10000][['objid', 'ra', 'dec']].values)"
   ]
  },
  {
   "cell_type": "code",
   "execution_count": 108,
   "id": "a59e506e-56f3-45b9-8b0c-84a9644c0f5b",
   "metadata": {},
   "outputs": [
    {
     "name": "stdout",
     "output_type": "stream",
     "text": [
      "file already exists: imgs/SDSS/96/1237661463844028496.jpg\n",
      "file already exists: imgs/SDSS/87/1237661463844028687.jpg\n",
      "file already exists: imgs/SDSS/19/1237661463844094319.jpg\n",
      "file already exists: imgs/SDSS/87/1237661463844159987.jpg\n",
      "file already exists: imgs/SDSS/15/1237661463844160015.jpg\n",
      "file already exists: imgs/SDSS/59/1237661463844225259.jpg\n",
      "file already exists: imgs/SDSS/85/1237661463844225285.jpg\n",
      "file already exists: imgs/SDSS/93/1237661463844225493.jpg\n",
      "file already exists: imgs/SDSS/6/1237661463844225506.jpg\n",
      "file already exists: imgs/SDSS/43/1237661463844290843.jpg\n",
      "file already exists: imgs/SDSS/49/1237661463844290849.jpg\n",
      "file already exists: imgs/SDSS/54/1237661463844290854.jpg\n",
      "file already exists: imgs/SDSS/29/1237661463844290929.jpg\n",
      "file already exists: imgs/SDSS/49/1237661463844290949.jpg\n",
      "file already exists: imgs/SDSS/76/1237661463844421776.jpg\n",
      "file already exists: imgs/SDSS/2/1237661463844421902.jpg\n",
      "file already exists: imgs/SDSS/86/1237661463844421986.jpg\n",
      "file already exists: imgs/SDSS/31/1237661463844422031.jpg\n",
      "file already exists: imgs/SDSS/35/1237661463844422035.jpg\n",
      "file already exists: imgs/SDSS/22/1237661463844487222.jpg\n",
      "file already exists: imgs/SDSS/60/1237661463844487560.jpg\n",
      "file already exists: imgs/SDSS/88/1237661463844487588.jpg\n",
      "file already exists: imgs/SDSS/91/1237661463844552891.jpg\n",
      "file already exists: imgs/SDSS/31/1237661463844552931.jpg\n",
      "file already exists: imgs/SDSS/37/1237661463844553037.jpg\n",
      "file already exists: imgs/SDSS/94/1237661463844553094.jpg\n",
      "file already exists: imgs/SDSS/4/1237661463844618404.jpg\n",
      "file already exists: imgs/SDSS/13/1237661463844618513.jpg\n",
      "file already exists: imgs/SDSS/34/1237661463844618534.jpg\n",
      "file already exists: imgs/SDSS/73/1237661463844618573.jpg\n",
      "file already exists: imgs/SDSS/90/1237661463844683990.jpg\n",
      "file already exists: imgs/SDSS/6/1237661463844684206.jpg\n",
      "file already exists: imgs/SDSS/40/1237661463844749440.jpg\n",
      "file already exists: imgs/SDSS/16/1237661463844749516.jpg\n",
      "file already exists: imgs/SDSS/45/1237661463844749645.jpg\n",
      "file already exists: imgs/SDSS/7/1237661463844749707.jpg\n",
      "file already exists: imgs/SDSS/78/1237661463844749778.jpg\n",
      "file already exists: imgs/SDSS/92/1237661463844814892.jpg\n",
      "file already exists: imgs/SDSS/83/1237661463844815283.jpg\n",
      "file already exists: imgs/SDSS/9/1237661463844815309.jpg\n",
      "file already exists: imgs/SDSS/22/1237661463844815322.jpg\n",
      "file already exists: imgs/SDSS/41/1237661463844946241.jpg\n",
      "CPU times: user 333 ms, sys: 76.3 ms, total: 409 ms\n",
      "Wall time: 25.7 s\n"
     ]
    }
   ],
   "source": [
    "%%time\n",
    "for i in range(100):\n",
    "    download_image_jpg(*df.iloc[400 + i][['objid', 'ra', 'dec']].values,\n",
    "                       root_folder='./imgs/SDSS', service='SDSS')"
   ]
  },
  {
   "cell_type": "code",
   "execution_count": 109,
   "id": "37de2a11-7a86-4454-851a-5bacb2e31aec",
   "metadata": {},
   "outputs": [
    {
     "name": "stdout",
     "output_type": "stream",
     "text": [
      "CPU times: user 474 ms, sys: 94.2 ms, total: 568 ms\n",
      "Wall time: 31.8 s\n"
     ]
    }
   ],
   "source": [
    "%%time\n",
    "for i in range(100):\n",
    "    download_image_jpg(*df.iloc[200+i][['objid', 'ra', 'dec']].values,\n",
    "                       root_folder='./imgs/HIPS2FITS', service='HIPS2FITS')"
   ]
  },
  {
   "cell_type": "code",
   "execution_count": 103,
   "id": "83acc753-3b13-4b5c-982a-3db6e77001fd",
   "metadata": {},
   "outputs": [
    {
     "name": "stdout",
     "output_type": "stream",
     "text": [
      "CPU times: user 722 ms, sys: 121 ms, total: 843 ms\n",
      "Wall time: 2min 57s\n"
     ]
    }
   ],
   "source": [
    "%%time\n",
    "for i in range(100):\n",
    "    download_image_jpg(*df.iloc[i][['objid', 'ra', 'dec']].values,\n",
    "                       root_folder='./imgs/LEGACYSURVEY', service='LEGACYSURVEY')"
   ]
  },
  {
   "cell_type": "markdown",
   "id": "99bf5039-3a23-4f7a-a8bc-9a7656184a86",
   "metadata": {},
   "source": [
    "### Parallel download"
   ]
  },
  {
   "cell_type": "code",
   "execution_count": 152,
   "id": "ea30ae00-aa33-4ff7-9711-8386bc534c14",
   "metadata": {},
   "outputs": [
    {
     "name": "stdout",
     "output_type": "stream",
     "text": [
      "CPU times: user 374 ms, sys: 94.5 ms, total: 469 ms\n",
      "Wall time: 3.46 s\n"
     ]
    }
   ],
   "source": [
    "%%time\n",
    "BATCH_SIZE = 100\n",
    "INIT_INDEX = 300\n",
    "images = df.iloc[INIT_INDEX:INIT_INDEX + BATCH_SIZE][['objid', 'ra', 'dec']].to_dict(orient='records')\n",
    "\n",
    "download_image_batch(images, root_folder='./imgs/HIPS2FITS', service='HIPS2FITS', max_workers=20)"
   ]
  }
 ],
 "metadata": {
  "kernelspec": {
   "display_name": "Python 3 (ipykernel)",
   "language": "python",
   "name": "python3"
  },
  "language_info": {
   "codemirror_mode": {
    "name": "ipython",
    "version": 3
   },
   "file_extension": ".py",
   "mimetype": "text/x-python",
   "name": "python",
   "nbconvert_exporter": "python",
   "pygments_lexer": "ipython3",
   "version": "3.13.5"
  }
 },
 "nbformat": 4,
 "nbformat_minor": 5
}
